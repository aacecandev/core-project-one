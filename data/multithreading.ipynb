{
 "cells": [
  {
   "cell_type": "code",
   "execution_count": 1,
   "id": "bc59ac1b-a037-4e31-896a-2ea7c00a8b28",
   "metadata": {},
   "outputs": [
    {
     "name": "stdout",
     "output_type": "stream",
     "text": [
      "Writing magic_functions.py\n"
     ]
    }
   ],
   "source": [
    "%%writefile magic_functions.py\n",
    "\n",
    "def magic_function(f):\n",
    "    return f+10\n",
    "\n",
    "def process_frame(f):\n",
    "    # changed your logic here as I couldn't repro it\n",
    "    return f, magic_function(f)"
   ]
  },
  {
   "cell_type": "code",
   "execution_count": 3,
   "id": "a48e41e5-65e1-4fb1-b2e2-ad32311968ca",
   "metadata": {},
   "outputs": [
    {
     "name": "stdout",
     "output_type": "stream",
     "text": [
      "Defaulting to user installation because normal site-packages is not writeable\n",
      "Collecting tqdm\n",
      "  Downloading tqdm-4.62.3-py2.py3-none-any.whl (76 kB)\n",
      "     |████████████████████████████████| 76 kB 6.3 MB/s             \n",
      "\u001b[?25hInstalling collected packages: tqdm\n",
      "Successfully installed tqdm-4.62.3\n"
     ]
    }
   ],
   "source": [
    "!pip install tqdm"
   ]
  },
  {
   "cell_type": "code",
   "execution_count": 5,
   "id": "11753159-9bcc-48e1-a576-e4f98fe21bd6",
   "metadata": {},
   "outputs": [
    {
     "name": "stdout",
     "output_type": "stream",
     "text": [
      "Defaulting to user installation because normal site-packages is not writeable\n",
      "Collecting multiprocess\n",
      "  Downloading multiprocess-0.70.12.2-py38-none-any.whl (128 kB)\n",
      "     |████████████████████████████████| 128 kB 9.9 MB/s            \n",
      "\u001b[?25hCollecting dill>=0.3.4\n",
      "  Using cached dill-0.3.4-py2.py3-none-any.whl (86 kB)\n",
      "Installing collected packages: dill, multiprocess\n",
      "Successfully installed dill-0.3.4 multiprocess-0.70.12.2\n"
     ]
    }
   ],
   "source": [
    "!pip install multiprocess"
   ]
  },
  {
   "cell_type": "code",
   "execution_count": 6,
   "id": "4a8f72d2-f7c0-45d7-b1b7-6f00fda10d14",
   "metadata": {},
   "outputs": [
    {
     "name": "stderr",
     "output_type": "stream",
     "text": [
      "100%|████████████████████████████████████████████████████████████████████████████████████████████████████████| 7/7 [00:00<00:00, 51328.90it/s]"
     ]
    },
    {
     "name": "stdout",
     "output_type": "stream",
     "text": [
      "[(0, 10), (1, 11), (2, 12), (3, 13), (4, 14), (5, 15), (6, 16)]\n",
      "dict: {0: 10, 1: 11, 2: 12, 3: 13, 4: 14, 5: 15, 6: 16}\n"
     ]
    },
    {
     "name": "stderr",
     "output_type": "stream",
     "text": [
      "\n"
     ]
    }
   ],
   "source": [
    "from tqdm import tqdm\n",
    "\n",
    "from multiprocess import Pool\n",
    "from magic_functions import process_frame\n",
    "\n",
    "frames_list = [0, 1, 2, 3, 4, 5, 6]\n",
    "\n",
    "max_pool = 5\n",
    "\n",
    "with Pool(max_pool) as p:\n",
    "    pool_outputs = list(\n",
    "        tqdm(\n",
    "            p.imap(process_frame,\n",
    "                   frames_list),\n",
    "            total=len(frames_list)\n",
    "        )\n",
    "    )    \n",
    "\n",
    "print(pool_outputs)\n",
    "new_dict = dict(pool_outputs)\n",
    "\n",
    "print(\"dict:\", new_dict)"
   ]
  },
  {
   "cell_type": "code",
   "execution_count": null,
   "id": "f5d4ac33-c2c6-48b2-9dad-960e5d006d74",
   "metadata": {},
   "outputs": [],
   "source": []
  }
 ],
 "metadata": {
  "kernelspec": {
   "display_name": "Python 3 (ipykernel)",
   "language": "python",
   "name": "python3"
  },
  "language_info": {
   "codemirror_mode": {
    "name": "ipython",
    "version": 3
   },
   "file_extension": ".py",
   "mimetype": "text/x-python",
   "name": "python",
   "nbconvert_exporter": "python",
   "pygments_lexer": "ipython3",
   "version": "3.8.10"
  }
 },
 "nbformat": 4,
 "nbformat_minor": 5
}

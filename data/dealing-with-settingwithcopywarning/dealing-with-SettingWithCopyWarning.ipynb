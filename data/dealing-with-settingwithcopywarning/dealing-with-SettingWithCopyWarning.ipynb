{
 "cells": [
  {
   "cell_type": "code",
   "execution_count": 36,
   "id": "28896cf1-1ec1-493a-bb02-d05d85227042",
   "metadata": {},
   "outputs": [],
   "source": [
    "# https://www.dataquest.io/blog/settingwithcopywarning/"
   ]
  },
  {
   "cell_type": "code",
   "execution_count": 3,
   "id": "d97583a1-169d-4f1a-802a-cfd8e6013e4f",
   "metadata": {},
   "outputs": [
    {
     "data": {
      "text/html": [
       "<div>\n",
       "<style scoped>\n",
       "    .dataframe tbody tr th:only-of-type {\n",
       "        vertical-align: middle;\n",
       "    }\n",
       "\n",
       "    .dataframe tbody tr th {\n",
       "        vertical-align: top;\n",
       "    }\n",
       "\n",
       "    .dataframe thead th {\n",
       "        text-align: right;\n",
       "    }\n",
       "</style>\n",
       "<table border=\"1\" class=\"dataframe\">\n",
       "  <thead>\n",
       "    <tr style=\"text-align: right;\">\n",
       "      <th></th>\n",
       "      <th>auctionid</th>\n",
       "      <th>bid</th>\n",
       "      <th>bidtime</th>\n",
       "      <th>bidder</th>\n",
       "      <th>bidderrate</th>\n",
       "      <th>openbid</th>\n",
       "      <th>price</th>\n",
       "    </tr>\n",
       "  </thead>\n",
       "  <tbody>\n",
       "    <tr>\n",
       "      <th>0</th>\n",
       "      <td>8213034705</td>\n",
       "      <td>95.0</td>\n",
       "      <td>2.927373</td>\n",
       "      <td>jake7870</td>\n",
       "      <td>0</td>\n",
       "      <td>95.0</td>\n",
       "      <td>117.5</td>\n",
       "    </tr>\n",
       "    <tr>\n",
       "      <th>1</th>\n",
       "      <td>8213034705</td>\n",
       "      <td>115.0</td>\n",
       "      <td>2.943484</td>\n",
       "      <td>davidbresler2</td>\n",
       "      <td>1</td>\n",
       "      <td>95.0</td>\n",
       "      <td>117.5</td>\n",
       "    </tr>\n",
       "    <tr>\n",
       "      <th>2</th>\n",
       "      <td>8213034705</td>\n",
       "      <td>100.0</td>\n",
       "      <td>2.951285</td>\n",
       "      <td>gladimacowgirl</td>\n",
       "      <td>58</td>\n",
       "      <td>95.0</td>\n",
       "      <td>117.5</td>\n",
       "    </tr>\n",
       "    <tr>\n",
       "      <th>3</th>\n",
       "      <td>8213034705</td>\n",
       "      <td>117.5</td>\n",
       "      <td>2.998947</td>\n",
       "      <td>daysrus</td>\n",
       "      <td>10</td>\n",
       "      <td>95.0</td>\n",
       "      <td>117.5</td>\n",
       "    </tr>\n",
       "    <tr>\n",
       "      <th>4</th>\n",
       "      <td>8213060420</td>\n",
       "      <td>2.0</td>\n",
       "      <td>0.065266</td>\n",
       "      <td>donnie4814</td>\n",
       "      <td>5</td>\n",
       "      <td>1.0</td>\n",
       "      <td>120.0</td>\n",
       "    </tr>\n",
       "  </tbody>\n",
       "</table>\n",
       "</div>"
      ],
      "text/plain": [
       "    auctionid    bid   bidtime          bidder  bidderrate  openbid  price\n",
       "0  8213034705   95.0  2.927373        jake7870           0     95.0  117.5\n",
       "1  8213034705  115.0  2.943484   davidbresler2           1     95.0  117.5\n",
       "2  8213034705  100.0  2.951285  gladimacowgirl          58     95.0  117.5\n",
       "3  8213034705  117.5  2.998947         daysrus          10     95.0  117.5\n",
       "4  8213060420    2.0  0.065266      donnie4814           5      1.0  120.0"
      ]
     },
     "execution_count": 3,
     "metadata": {},
     "output_type": "execute_result"
    }
   ],
   "source": [
    "import pandas as pd\n",
    "data = pd.read_csv('./xbox-3-day-auctions.csv')\n",
    "data.head()"
   ]
  },
  {
   "cell_type": "code",
   "execution_count": 4,
   "id": "6d22677c-3bcb-43d5-81b9-62e7cdfa6d0a",
   "metadata": {},
   "outputs": [],
   "source": [
    "# auctionid — A unique identifier of each auction.\n",
    "# bid — The value of the bid.\n",
    "# bidtime — The age of the auction, in days, at the time of the bid.\n",
    "# bidder — eBay username of the bidder.\n",
    "# bidderrate – The bidder’s eBay user rating.\n",
    "# openbid — The opening bid set by the seller for the auction.\n",
    "# price — The winning bid at the close of the auction."
   ]
  },
  {
   "cell_type": "markdown",
   "id": "e5381180-daa3-41c7-a1f9-84d12e964701",
   "metadata": {},
   "source": [
    "<img src=\"view-vs-copy.png\">"
   ]
  },
  {
   "cell_type": "markdown",
   "id": "a49968d2-2856-4094-8506-03dbb15aad22",
   "metadata": {},
   "source": [
    "## Common issue #1: Chained assignment"
   ]
  },
  {
   "cell_type": "code",
   "execution_count": 5,
   "id": "85d03f18-3f00-412f-bced-a3dd5d413d4e",
   "metadata": {},
   "outputs": [],
   "source": [
    "# Assignment — Operations that set the value of something, for example \n",
    "# data = pd.read_csv('xbox-3-day-auctions.csv'). Often referred to as a set."
   ]
  },
  {
   "cell_type": "code",
   "execution_count": 6,
   "id": "01a2253b-d9df-4b4b-94f7-ea7b89a5d439",
   "metadata": {},
   "outputs": [],
   "source": [
    "# Access — Operations that return the value of something, such as the below \n",
    "# examples of indexing and chaining. Often referred to as a get."
   ]
  },
  {
   "cell_type": "code",
   "execution_count": 7,
   "id": "4a83559e-c82f-497f-ac35-c2e02ea18ffc",
   "metadata": {},
   "outputs": [
    {
     "data": {
      "text/html": [
       "<div>\n",
       "<style scoped>\n",
       "    .dataframe tbody tr th:only-of-type {\n",
       "        vertical-align: middle;\n",
       "    }\n",
       "\n",
       "    .dataframe tbody tr th {\n",
       "        vertical-align: top;\n",
       "    }\n",
       "\n",
       "    .dataframe thead th {\n",
       "        text-align: right;\n",
       "    }\n",
       "</style>\n",
       "<table border=\"1\" class=\"dataframe\">\n",
       "  <thead>\n",
       "    <tr style=\"text-align: right;\">\n",
       "      <th></th>\n",
       "      <th>auctionid</th>\n",
       "      <th>bid</th>\n",
       "      <th>bidtime</th>\n",
       "      <th>bidder</th>\n",
       "      <th>bidderrate</th>\n",
       "      <th>openbid</th>\n",
       "      <th>price</th>\n",
       "    </tr>\n",
       "  </thead>\n",
       "  <tbody>\n",
       "    <tr>\n",
       "      <th>1</th>\n",
       "      <td>8213034705</td>\n",
       "      <td>115.0</td>\n",
       "      <td>2.943484</td>\n",
       "      <td>davidbresler2</td>\n",
       "      <td>1</td>\n",
       "      <td>95.0</td>\n",
       "      <td>117.5</td>\n",
       "    </tr>\n",
       "    <tr>\n",
       "      <th>2</th>\n",
       "      <td>8213034705</td>\n",
       "      <td>100.0</td>\n",
       "      <td>2.951285</td>\n",
       "      <td>gladimacowgirl</td>\n",
       "      <td>58</td>\n",
       "      <td>95.0</td>\n",
       "      <td>117.5</td>\n",
       "    </tr>\n",
       "    <tr>\n",
       "      <th>3</th>\n",
       "      <td>8213034705</td>\n",
       "      <td>117.5</td>\n",
       "      <td>2.998947</td>\n",
       "      <td>daysrus</td>\n",
       "      <td>10</td>\n",
       "      <td>95.0</td>\n",
       "      <td>117.5</td>\n",
       "    </tr>\n",
       "    <tr>\n",
       "      <th>4</th>\n",
       "      <td>8213060420</td>\n",
       "      <td>2.0</td>\n",
       "      <td>0.065266</td>\n",
       "      <td>donnie4814</td>\n",
       "      <td>5</td>\n",
       "      <td>1.0</td>\n",
       "      <td>120.0</td>\n",
       "    </tr>\n",
       "  </tbody>\n",
       "</table>\n",
       "</div>"
      ],
      "text/plain": [
       "    auctionid    bid   bidtime          bidder  bidderrate  openbid  price\n",
       "1  8213034705  115.0  2.943484   davidbresler2           1     95.0  117.5\n",
       "2  8213034705  100.0  2.951285  gladimacowgirl          58     95.0  117.5\n",
       "3  8213034705  117.5  2.998947         daysrus          10     95.0  117.5\n",
       "4  8213060420    2.0  0.065266      donnie4814           5      1.0  120.0"
      ]
     },
     "execution_count": 7,
     "metadata": {},
     "output_type": "execute_result"
    }
   ],
   "source": [
    "# Indexing — Any assignment or access method that references a subset of the data; \n",
    "# for example data[1:5].\n",
    "\n",
    "data[1:5]"
   ]
  },
  {
   "cell_type": "code",
   "execution_count": 8,
   "id": "0001c727-bfed-4a0d-bc7c-4adc2f8f8835",
   "metadata": {},
   "outputs": [
    {
     "data": {
      "text/html": [
       "<div>\n",
       "<style scoped>\n",
       "    .dataframe tbody tr th:only-of-type {\n",
       "        vertical-align: middle;\n",
       "    }\n",
       "\n",
       "    .dataframe tbody tr th {\n",
       "        vertical-align: top;\n",
       "    }\n",
       "\n",
       "    .dataframe thead th {\n",
       "        text-align: right;\n",
       "    }\n",
       "</style>\n",
       "<table border=\"1\" class=\"dataframe\">\n",
       "  <thead>\n",
       "    <tr style=\"text-align: right;\">\n",
       "      <th></th>\n",
       "      <th>auctionid</th>\n",
       "      <th>bid</th>\n",
       "      <th>bidtime</th>\n",
       "      <th>bidder</th>\n",
       "      <th>bidderrate</th>\n",
       "      <th>openbid</th>\n",
       "      <th>price</th>\n",
       "    </tr>\n",
       "  </thead>\n",
       "  <tbody>\n",
       "    <tr>\n",
       "      <th>2</th>\n",
       "      <td>8213034705</td>\n",
       "      <td>100.0</td>\n",
       "      <td>2.951285</td>\n",
       "      <td>gladimacowgirl</td>\n",
       "      <td>58</td>\n",
       "      <td>95.0</td>\n",
       "      <td>117.5</td>\n",
       "    </tr>\n",
       "    <tr>\n",
       "      <th>3</th>\n",
       "      <td>8213034705</td>\n",
       "      <td>117.5</td>\n",
       "      <td>2.998947</td>\n",
       "      <td>daysrus</td>\n",
       "      <td>10</td>\n",
       "      <td>95.0</td>\n",
       "      <td>117.5</td>\n",
       "    </tr>\n",
       "  </tbody>\n",
       "</table>\n",
       "</div>"
      ],
      "text/plain": [
       "    auctionid    bid   bidtime          bidder  bidderrate  openbid  price\n",
       "2  8213034705  100.0  2.951285  gladimacowgirl          58     95.0  117.5\n",
       "3  8213034705  117.5  2.998947         daysrus          10     95.0  117.5"
      ]
     },
     "execution_count": 8,
     "metadata": {},
     "output_type": "execute_result"
    }
   ],
   "source": [
    "# Chaining — The use of more than one indexing operation back-to-back; for example data[1:5][1:3].\n",
    "\n",
    "data[1:5][1:3]"
   ]
  },
  {
   "cell_type": "code",
   "execution_count": 9,
   "id": "ea660330-1e13-45f3-9dd9-9ee31c2cf997",
   "metadata": {},
   "outputs": [],
   "source": [
    "# Chained assignment is the combination of chaining and assignment. Let’s take a quick look at an \n",
    "# example with the data set we loaded earlier. We will go over this in more detail later on.\n",
    "\n",
    "# For the sake of this example, let’s say that we have been told that looking at the current values\n",
    "# the user 'parakeet2004'‘s bidder rating is incorrect and we must update it.\n"
   ]
  },
  {
   "cell_type": "code",
   "execution_count": 10,
   "id": "3dfef8e4-337f-4d77-8d13-854cf1de635d",
   "metadata": {},
   "outputs": [
    {
     "data": {
      "text/html": [
       "<div>\n",
       "<style scoped>\n",
       "    .dataframe tbody tr th:only-of-type {\n",
       "        vertical-align: middle;\n",
       "    }\n",
       "\n",
       "    .dataframe tbody tr th {\n",
       "        vertical-align: top;\n",
       "    }\n",
       "\n",
       "    .dataframe thead th {\n",
       "        text-align: right;\n",
       "    }\n",
       "</style>\n",
       "<table border=\"1\" class=\"dataframe\">\n",
       "  <thead>\n",
       "    <tr style=\"text-align: right;\">\n",
       "      <th></th>\n",
       "      <th>auctionid</th>\n",
       "      <th>bid</th>\n",
       "      <th>bidtime</th>\n",
       "      <th>bidder</th>\n",
       "      <th>bidderrate</th>\n",
       "      <th>openbid</th>\n",
       "      <th>price</th>\n",
       "    </tr>\n",
       "  </thead>\n",
       "  <tbody>\n",
       "    <tr>\n",
       "      <th>6</th>\n",
       "      <td>8213060420</td>\n",
       "      <td>3.00</td>\n",
       "      <td>0.186539</td>\n",
       "      <td>parakeet2004</td>\n",
       "      <td>5</td>\n",
       "      <td>1.0</td>\n",
       "      <td>120.0</td>\n",
       "    </tr>\n",
       "    <tr>\n",
       "      <th>7</th>\n",
       "      <td>8213060420</td>\n",
       "      <td>10.00</td>\n",
       "      <td>0.186690</td>\n",
       "      <td>parakeet2004</td>\n",
       "      <td>5</td>\n",
       "      <td>1.0</td>\n",
       "      <td>120.0</td>\n",
       "    </tr>\n",
       "    <tr>\n",
       "      <th>8</th>\n",
       "      <td>8213060420</td>\n",
       "      <td>24.99</td>\n",
       "      <td>0.187049</td>\n",
       "      <td>parakeet2004</td>\n",
       "      <td>5</td>\n",
       "      <td>1.0</td>\n",
       "      <td>120.0</td>\n",
       "    </tr>\n",
       "  </tbody>\n",
       "</table>\n",
       "</div>"
      ],
      "text/plain": [
       "    auctionid    bid   bidtime        bidder  bidderrate  openbid  price\n",
       "6  8213060420   3.00  0.186539  parakeet2004           5      1.0  120.0\n",
       "7  8213060420  10.00  0.186690  parakeet2004           5      1.0  120.0\n",
       "8  8213060420  24.99  0.187049  parakeet2004           5      1.0  120.0"
      ]
     },
     "execution_count": 10,
     "metadata": {},
     "output_type": "execute_result"
    }
   ],
   "source": [
    "data[data.bidder == 'parakeet2004']"
   ]
  },
  {
   "cell_type": "code",
   "execution_count": 11,
   "id": "ca8f2472-1df7-4b84-864b-6a1f46a2eb60",
   "metadata": {},
   "outputs": [],
   "source": [
    "# We have three rows to update the bidderrate field on; let’s go ahead and do that."
   ]
  },
  {
   "cell_type": "code",
   "execution_count": 14,
   "id": "ea9e6471-ac3a-498e-8019-a3f58bc1569b",
   "metadata": {},
   "outputs": [
    {
     "data": {
      "text/plain": [
       "6    5\n",
       "7    5\n",
       "8    5\n",
       "Name: bidderrate, dtype: int64"
      ]
     },
     "execution_count": 14,
     "metadata": {},
     "output_type": "execute_result"
    }
   ],
   "source": [
    "data[data.bidder == 'parakeet2004']['bidderrate']"
   ]
  },
  {
   "cell_type": "code",
   "execution_count": 12,
   "id": "056f0453-3533-4f24-b61f-f6f3e1aca37f",
   "metadata": {},
   "outputs": [
    {
     "name": "stderr",
     "output_type": "stream",
     "text": [
      "/tmp/ipykernel_29644/204132680.py:1: SettingWithCopyWarning: \n",
      "A value is trying to be set on a copy of a slice from a DataFrame.\n",
      "Try using .loc[row_indexer,col_indexer] = value instead\n",
      "\n",
      "See the caveats in the documentation: https://pandas.pydata.org/pandas-docs/stable/user_guide/indexing.html#returning-a-view-versus-a-copy\n",
      "  data[data.bidder == 'parakeet2004']['bidderrate'] = 100\n"
     ]
    }
   ],
   "source": [
    "data[data.bidder == 'parakeet2004']['bidderrate'] = 100"
   ]
  },
  {
   "cell_type": "code",
   "execution_count": 13,
   "id": "f576f2d9-4574-4a22-88f1-8498c1d305b8",
   "metadata": {},
   "outputs": [
    {
     "data": {
      "text/html": [
       "<div>\n",
       "<style scoped>\n",
       "    .dataframe tbody tr th:only-of-type {\n",
       "        vertical-align: middle;\n",
       "    }\n",
       "\n",
       "    .dataframe tbody tr th {\n",
       "        vertical-align: top;\n",
       "    }\n",
       "\n",
       "    .dataframe thead th {\n",
       "        text-align: right;\n",
       "    }\n",
       "</style>\n",
       "<table border=\"1\" class=\"dataframe\">\n",
       "  <thead>\n",
       "    <tr style=\"text-align: right;\">\n",
       "      <th></th>\n",
       "      <th>auctionid</th>\n",
       "      <th>bid</th>\n",
       "      <th>bidtime</th>\n",
       "      <th>bidder</th>\n",
       "      <th>bidderrate</th>\n",
       "      <th>openbid</th>\n",
       "      <th>price</th>\n",
       "    </tr>\n",
       "  </thead>\n",
       "  <tbody>\n",
       "    <tr>\n",
       "      <th>6</th>\n",
       "      <td>8213060420</td>\n",
       "      <td>3.00</td>\n",
       "      <td>0.186539</td>\n",
       "      <td>parakeet2004</td>\n",
       "      <td>5</td>\n",
       "      <td>1.0</td>\n",
       "      <td>120.0</td>\n",
       "    </tr>\n",
       "    <tr>\n",
       "      <th>7</th>\n",
       "      <td>8213060420</td>\n",
       "      <td>10.00</td>\n",
       "      <td>0.186690</td>\n",
       "      <td>parakeet2004</td>\n",
       "      <td>5</td>\n",
       "      <td>1.0</td>\n",
       "      <td>120.0</td>\n",
       "    </tr>\n",
       "    <tr>\n",
       "      <th>8</th>\n",
       "      <td>8213060420</td>\n",
       "      <td>24.99</td>\n",
       "      <td>0.187049</td>\n",
       "      <td>parakeet2004</td>\n",
       "      <td>5</td>\n",
       "      <td>1.0</td>\n",
       "      <td>120.0</td>\n",
       "    </tr>\n",
       "  </tbody>\n",
       "</table>\n",
       "</div>"
      ],
      "text/plain": [
       "    auctionid    bid   bidtime        bidder  bidderrate  openbid  price\n",
       "6  8213060420   3.00  0.186539  parakeet2004           5      1.0  120.0\n",
       "7  8213060420  10.00  0.186690  parakeet2004           5      1.0  120.0\n",
       "8  8213060420  24.99  0.187049  parakeet2004           5      1.0  120.0"
      ]
     },
     "execution_count": 13,
     "metadata": {},
     "output_type": "execute_result"
    }
   ],
   "source": [
    "# If we take a look, we can see that in this case the values were not changed:\n",
    "\n",
    "data[data.bidder == 'parakeet2004']"
   ]
  },
  {
   "cell_type": "code",
   "execution_count": 15,
   "id": "91549a4f-fa2f-4cc6-bfed-1c16be453c7c",
   "metadata": {},
   "outputs": [],
   "source": [
    "# The warning was generated because we have chained two indexing operations together. This is made easier to spot because we’ve used square brackets twice, but the same would be true if we used other access methods such as .bidderrate, .loc[], .iloc[], .ix[] and so on. Our chained operations are:\n",
    "\n",
    "#    data[data.bidder == 'parakeet2004']\n",
    "#    ['bidderrate'] = 100"
   ]
  },
  {
   "cell_type": "code",
   "execution_count": 16,
   "id": "f85897bc-34f6-47ae-a8b6-f20da29b1680",
   "metadata": {},
   "outputs": [],
   "source": [
    "# These two chained operations execute independently, one after another. \n",
    "\n",
    "# The first is an access method (get operation), that will return a DataFrame containing all rows \n",
    "# where bidder equals 'parakeet2004'. \n",
    "\n",
    "# The second is an assignment operation (set operation), that is called on this new DataFrame. \n",
    "\n",
    "# We are not operating on the original DataFrame at all."
   ]
  },
  {
   "cell_type": "code",
   "execution_count": 17,
   "id": "1f658eb6-459c-407b-a4f0-d578a9578a90",
   "metadata": {},
   "outputs": [],
   "source": [
    "# The solution is simple: combine the chained operations into a single operation using loc so that \n",
    "# pandas can ensure the original DataFrame is set. Pandas will always ensure that unchained set \n",
    "# perations, like the below, work."
   ]
  },
  {
   "cell_type": "code",
   "execution_count": 18,
   "id": "f9156aae-e2b7-4c3a-8ef7-d81a005501f8",
   "metadata": {},
   "outputs": [],
   "source": [
    "# Setting the new value\n",
    "data.loc[data.bidder == 'parakeet2004', 'bidderrate'] = 100"
   ]
  },
  {
   "cell_type": "code",
   "execution_count": 19,
   "id": "7047af07-e509-4863-8978-5b9b554da7fa",
   "metadata": {},
   "outputs": [
    {
     "data": {
      "text/plain": [
       "6    100\n",
       "7    100\n",
       "8    100\n",
       "Name: bidderrate, dtype: int64"
      ]
     },
     "execution_count": 19,
     "metadata": {},
     "output_type": "execute_result"
    }
   ],
   "source": [
    "# Taking a look at the result\n",
    "data[data.bidder == 'parakeet2004']['bidderrate']"
   ]
  },
  {
   "cell_type": "code",
   "execution_count": 20,
   "id": "1f357b2a-8064-405b-b3bd-9496b6e277c7",
   "metadata": {},
   "outputs": [],
   "source": [
    "# This is what the warning suggests we do, and it works perfectly in this case."
   ]
  },
  {
   "cell_type": "markdown",
   "id": "3bb731cb-b79a-42ea-a5ff-260b6f2d3980",
   "metadata": {},
   "source": [
    "## Common issue #2: Hidden chaining"
   ]
  },
  {
   "cell_type": "code",
   "execution_count": 21,
   "id": "0ce8f1c4-f7e2-4d4d-be53-ae9314744dba",
   "metadata": {},
   "outputs": [],
   "source": [
    "# Let’s investigate winning bids. We will create a new dataframe to work with them, taking care to \n",
    "# use loc going forward now that we have learned our lesson about chained assignment."
   ]
  },
  {
   "cell_type": "code",
   "execution_count": 22,
   "id": "354efa72-1c42-41c0-aa31-ded0245d3d31",
   "metadata": {},
   "outputs": [
    {
     "data": {
      "text/html": [
       "<div>\n",
       "<style scoped>\n",
       "    .dataframe tbody tr th:only-of-type {\n",
       "        vertical-align: middle;\n",
       "    }\n",
       "\n",
       "    .dataframe tbody tr th {\n",
       "        vertical-align: top;\n",
       "    }\n",
       "\n",
       "    .dataframe thead th {\n",
       "        text-align: right;\n",
       "    }\n",
       "</style>\n",
       "<table border=\"1\" class=\"dataframe\">\n",
       "  <thead>\n",
       "    <tr style=\"text-align: right;\">\n",
       "      <th></th>\n",
       "      <th>auctionid</th>\n",
       "      <th>bid</th>\n",
       "      <th>bidtime</th>\n",
       "      <th>bidder</th>\n",
       "      <th>bidderrate</th>\n",
       "      <th>openbid</th>\n",
       "      <th>price</th>\n",
       "    </tr>\n",
       "  </thead>\n",
       "  <tbody>\n",
       "    <tr>\n",
       "      <th>3</th>\n",
       "      <td>8213034705</td>\n",
       "      <td>117.5</td>\n",
       "      <td>2.998947</td>\n",
       "      <td>daysrus</td>\n",
       "      <td>10</td>\n",
       "      <td>95.00</td>\n",
       "      <td>117.5</td>\n",
       "    </tr>\n",
       "    <tr>\n",
       "      <th>25</th>\n",
       "      <td>8213060420</td>\n",
       "      <td>120.0</td>\n",
       "      <td>2.999722</td>\n",
       "      <td>djnoeproductions</td>\n",
       "      <td>17</td>\n",
       "      <td>1.00</td>\n",
       "      <td>120.0</td>\n",
       "    </tr>\n",
       "    <tr>\n",
       "      <th>44</th>\n",
       "      <td>8213067838</td>\n",
       "      <td>132.5</td>\n",
       "      <td>2.996632</td>\n",
       "      <td>*champaignbubbles*</td>\n",
       "      <td>202</td>\n",
       "      <td>29.99</td>\n",
       "      <td>132.5</td>\n",
       "    </tr>\n",
       "    <tr>\n",
       "      <th>45</th>\n",
       "      <td>8213067838</td>\n",
       "      <td>132.5</td>\n",
       "      <td>2.997789</td>\n",
       "      <td>*champaignbubbles*</td>\n",
       "      <td>202</td>\n",
       "      <td>29.99</td>\n",
       "      <td>132.5</td>\n",
       "    </tr>\n",
       "    <tr>\n",
       "      <th>66</th>\n",
       "      <td>8213073509</td>\n",
       "      <td>114.5</td>\n",
       "      <td>2.999236</td>\n",
       "      <td>rr6kids</td>\n",
       "      <td>4</td>\n",
       "      <td>1.00</td>\n",
       "      <td>114.5</td>\n",
       "    </tr>\n",
       "  </tbody>\n",
       "</table>\n",
       "</div>"
      ],
      "text/plain": [
       "     auctionid    bid   bidtime              bidder  bidderrate  openbid  \\\n",
       "3   8213034705  117.5  2.998947             daysrus          10    95.00   \n",
       "25  8213060420  120.0  2.999722    djnoeproductions          17     1.00   \n",
       "44  8213067838  132.5  2.996632  *champaignbubbles*         202    29.99   \n",
       "45  8213067838  132.5  2.997789  *champaignbubbles*         202    29.99   \n",
       "66  8213073509  114.5  2.999236             rr6kids           4     1.00   \n",
       "\n",
       "    price  \n",
       "3   117.5  \n",
       "25  120.0  \n",
       "44  132.5  \n",
       "45  132.5  \n",
       "66  114.5  "
      ]
     },
     "execution_count": 22,
     "metadata": {},
     "output_type": "execute_result"
    }
   ],
   "source": [
    "winners = data.loc[data.bid == data.price]\n",
    "winners.head()"
   ]
  },
  {
   "cell_type": "code",
   "execution_count": 24,
   "id": "721cfbb5-01f1-4be5-a58a-6041ffbde641",
   "metadata": {},
   "outputs": [],
   "source": [
    "# By chance, we come across another mistake in our DataFrame. \n",
    "\n",
    "# This time the bidder value is missing from the row labelled 304"
   ]
  },
  {
   "cell_type": "code",
   "execution_count": 25,
   "id": "452c23f8-e5d6-46e5-8953-ea856f94999f",
   "metadata": {},
   "outputs": [
    {
     "data": {
      "text/plain": [
       "nan"
      ]
     },
     "execution_count": 25,
     "metadata": {},
     "output_type": "execute_result"
    }
   ],
   "source": [
    "winners.loc[304, 'bidder']"
   ]
  },
  {
   "cell_type": "code",
   "execution_count": 26,
   "id": "194b6852-0e94-4255-a42d-970295af2595",
   "metadata": {},
   "outputs": [
    {
     "name": "stderr",
     "output_type": "stream",
     "text": [
      "/home/alejandro/anaconda3/lib/python3.8/site-packages/pandas/core/indexing.py:1720: SettingWithCopyWarning: \n",
      "A value is trying to be set on a copy of a slice from a DataFrame.\n",
      "Try using .loc[row_indexer,col_indexer] = value instead\n",
      "\n",
      "See the caveats in the documentation: https://pandas.pydata.org/pandas-docs/stable/user_guide/indexing.html#returning-a-view-versus-a-copy\n",
      "  self._setitem_single_column(loc, value, pi)\n"
     ]
    }
   ],
   "source": [
    "#For the sake of our example, let’s say that we know the true username of this bidder and update our data.\n",
    "\n",
    "winners.loc[304, 'bidder'] = 'therealname'"
   ]
  },
  {
   "cell_type": "code",
   "execution_count": 27,
   "id": "27bdc7c3-2e7a-453b-b1e0-786d794b5936",
   "metadata": {},
   "outputs": [
    {
     "name": "stdout",
     "output_type": "stream",
     "text": [
      "therealname\n"
     ]
    }
   ],
   "source": [
    "#But we used loc, how has this happened again? To investigate, let’s take a look at the result of our code:\n",
    "\n",
    "print(winners.loc[304, 'bidder'])"
   ]
  },
  {
   "cell_type": "code",
   "execution_count": 28,
   "id": "31060c0d-4011-4af7-ade4-804dd889b5b9",
   "metadata": {},
   "outputs": [],
   "source": [
    "# It worked this time, so why did we get the warning?"
   ]
  },
  {
   "cell_type": "code",
   "execution_count": 29,
   "id": "458ad3de-8da4-4e33-a568-d0b18049933e",
   "metadata": {},
   "outputs": [],
   "source": [
    "# Chained indexing can occur across two lines as well as within one. Because winners was created as\n",
    "# the output of a get operation (data.loc[data.bid == data.price]), it might be a copy of the\n",
    "# original DataFrame or it might not be, but until we checked there was no way to know!\n",
    "\n",
    "# When we indexed winners, we were actually using chained indexing.\n",
    "\n",
    "# This means that we may have also modified data as well when we were trying to modify winners.\n",
    "\n",
    "# In a real codebase, these lines could occur very far apart so tracking down the source of the problem \n",
    "# might be more difficult, but the situation is the same."
   ]
  },
  {
   "cell_type": "code",
   "execution_count": 30,
   "id": "3ad20f5d-e9a0-4c65-9411-38737581303f",
   "metadata": {},
   "outputs": [],
   "source": [
    "# To prevent the warning in this case, the solution is to explicitly tell pandas to make a copy \n",
    "# when we create the new dataframe:"
   ]
  },
  {
   "cell_type": "code",
   "execution_count": 31,
   "id": "a299a441-62df-4b87-a658-87a2e75f2715",
   "metadata": {},
   "outputs": [],
   "source": [
    "winners = data.loc[data.bid == data.price].copy()\n",
    "winners.loc[304, 'bidder'] = 'therealname'"
   ]
  },
  {
   "cell_type": "code",
   "execution_count": 32,
   "id": "2dcbfec6-0e9f-4e5a-b9af-f7330b15e017",
   "metadata": {},
   "outputs": [
    {
     "name": "stdout",
     "output_type": "stream",
     "text": [
      "therealname\n",
      "nan\n"
     ]
    }
   ],
   "source": [
    "print(winners.loc[304, 'bidder'])\n",
    "print(data.loc[304, 'bidder'])"
   ]
  },
  {
   "cell_type": "code",
   "execution_count": 34,
   "id": "412b34b3-1c39-46f4-809e-f6b933fc26b2",
   "metadata": {},
   "outputs": [
    {
     "name": "stdout",
     "output_type": "stream",
     "text": [
      "False\n"
     ]
    }
   ],
   "source": [
    "print(winners.loc[304, 'bidder'] == data.loc[304, 'bidder'])"
   ]
  },
  {
   "cell_type": "code",
   "execution_count": null,
   "id": "c4bc6ee9-4fdf-4ef5-90a2-d4695f82a831",
   "metadata": {},
   "outputs": [],
   "source": []
  }
 ],
 "metadata": {
  "kernelspec": {
   "display_name": "Python 3 (ipykernel)",
   "language": "python",
   "name": "python3"
  },
  "language_info": {
   "codemirror_mode": {
    "name": "ipython",
    "version": 3
   },
   "file_extension": ".py",
   "mimetype": "text/x-python",
   "name": "python",
   "nbconvert_exporter": "python",
   "pygments_lexer": "ipython3",
   "version": "3.8.8"
  }
 },
 "nbformat": 4,
 "nbformat_minor": 5
}
